{
 "cells": [
  {
   "cell_type": "markdown",
   "metadata": {
    "colab_type": "text",
    "id": "PTaAdgy3LS8W"
   },
   "source": [
    "# Intro to Sparse Data and Embeddings\n",
    "\n",
    "**Learning Objectives:**\n",
    "* Convert movie-review string data to a sparse feature vector\n",
    "* Implement a sentiment-analysis linear model using a sparse feature vector\n",
    "* Implement a sentiment-analysis DNN model using an embedding that projects data into two dimensions\n",
    "* Visualize the embedding to see what the model has learned about the relationships between words\n",
    "\n",
    "In this exercise, we'll explore sparse data and work with embeddings using text data from movie reviews (from the [ACL 2011 IMDB dataset](http://ai.stanford.edu/~amaas/data/sentiment/)). This data has already been processed into `tf.Example` format.  "
   ]
  },
  {
   "cell_type": "markdown",
   "metadata": {
    "colab_type": "text",
    "id": "2AKGtmwNosU8"
   },
   "source": [
    "## Setup\n",
    "\n",
    "Let's import our dependencies and download the training and test data. [`tf.keras`](https://www.tensorflow.org/api_docs/python/tf/keras) includes a file download and caching tool that we can use to retrieve the data sets."
   ]
  },
  {
   "cell_type": "code",
   "execution_count": 1,
   "metadata": {
    "colab": {
     "base_uri": "https://localhost:8080/",
     "height": 119
    },
    "colab_type": "code",
    "id": "jGWqDqFFL_NZ",
    "outputId": "0bc1e6dc-56c5-43f2-d386-0e52200c3ec9"
   },
   "outputs": [
    {
     "name": "stdout",
     "output_type": "stream",
     "text": [
      "Downloading data from https://dl.google.com/mlcc/mledu-datasets/sparse-data-embedding/train.tfrecord\n",
      "41631744/41625533 [==============================] - 0s 0us/step\n",
      "41639936/41625533 [==============================] - 0s 0us/step\n",
      "Downloading data from https://dl.google.com/mlcc/mledu-datasets/sparse-data-embedding/test.tfrecord\n",
      "40689664/40688441 [==============================] - 1s 0us/step\n",
      "40697856/40688441 [==============================] - 1s 0us/step\n"
     ]
    }
   ],
   "source": [
    "from __future__ import print_function\n",
    "\n",
    "import collections\n",
    "import io\n",
    "import math\n",
    "\n",
    "import matplotlib.pyplot as plt\n",
    "import numpy as np\n",
    "import pandas as pd\n",
    "import tensorflow as tf\n",
    "from IPython import display\n",
    "from sklearn import metrics\n",
    "\n",
    "tf.logging.set_verbosity(tf.logging.ERROR)\n",
    "train_url = 'https://dl.google.com/mlcc/mledu-datasets/sparse-data-embedding/train.tfrecord'\n",
    "train_path = tf.keras.utils.get_file(train_url.split('/')[-1], train_url)\n",
    "test_url = 'https://dl.google.com/mlcc/mledu-datasets/sparse-data-embedding/test.tfrecord'\n",
    "test_path = tf.keras.utils.get_file(test_url.split('/')[-1], test_url)"
   ]
  },
  {
   "cell_type": "markdown",
   "metadata": {
    "colab_type": "text",
    "id": "6W7aZ9qspZVj"
   },
   "source": [
    "## Building a Sentiment Analysis Model"
   ]
  },
  {
   "cell_type": "markdown",
   "metadata": {
    "colab_type": "text",
    "id": "jieA0k_NLS8a"
   },
   "source": [
    "Let's train a sentiment-analysis model on this data that predicts if a review is generally *favorable* (label of 1) or *unfavorable* (label of 0).\n",
    "\n",
    "To do so, we'll turn our string-value `terms` into feature vectors by using a *vocabulary*, a list of each term we expect to see in our data. For the purposes of this exercise, we've created a small vocabulary that focuses on a limited set of terms. Most of these terms were found to be strongly indicative of *favorable* or *unfavorable*, but some were just added because they're interesting.\n",
    "\n",
    "Each term in the vocabulary is mapped to a coordinate in our feature vector. To convert the string-value `terms` for an example into this vector format, we encode such that each coordinate gets a value of 0 if the vocabulary term does not appear in the example string, and a value of 1 if it does. Terms in an example that don't appear in the vocabulary are thrown away."
   ]
  },
  {
   "cell_type": "markdown",
   "metadata": {
    "colab_type": "text",
    "id": "2HSfklfnLS8b"
   },
   "source": [
    "**NOTE:** *We could of course use a larger vocabulary, and there are special tools for creating these. In addition, instead of just dropping terms that are not in the vocabulary, we can introduce a small number of OOV (out-of-vocabulary) buckets to which you can hash the terms not in the vocabulary. We can also use a __feature hashing__ approach that hashes each term, instead of creating an explicit vocabulary. This works well in practice, but loses interpretability, which is useful for this exercise. See see the tf.feature_column module for tools handling this.*"
   ]
  },
  {
   "cell_type": "markdown",
   "metadata": {
    "colab_type": "text",
    "id": "Uvoa2HyDtgqe"
   },
   "source": [
    "## Building the Input Pipeline"
   ]
  },
  {
   "cell_type": "markdown",
   "metadata": {
    "colab_type": "text",
    "id": "O20vMEOurDol"
   },
   "source": [
    "First, let's configure the input pipeline to import our data into a TensorFlow model. We can use the following function to parse the training and test data (which is in [TFRecord](https://www.tensorflow.org/programmers_guide/datasets) format) and return a dict of the features and the corresponding labels."
   ]
  },
  {
   "cell_type": "code",
   "execution_count": 0,
   "metadata": {
    "colab": {},
    "colab_type": "code",
    "id": "SxxNIEniPq2z"
   },
   "outputs": [],
   "source": [
    "def _parse_function(record):\n",
    "  \"\"\"Extracts features and labels.\n",
    "  \n",
    "  Args:\n",
    "    record: File path to a TFRecord file    \n",
    "  Returns:\n",
    "    A `tuple` `(labels, features)`:\n",
    "      features: A dict of tensors representing the features\n",
    "      labels: A tensor with the corresponding labels.\n",
    "  \"\"\"\n",
    "  features = {\n",
    "    \"terms\": tf.VarLenFeature(dtype=tf.string), # terms are strings of varying lengths\n",
    "    \"labels\": tf.FixedLenFeature(shape=[1], dtype=tf.float32) # labels are 0 or 1\n",
    "  }\n",
    "  \n",
    "  parsed_features = tf.parse_single_example(record, features)\n",
    "  \n",
    "  terms = parsed_features['terms'].values\n",
    "  labels = parsed_features['labels']\n",
    "\n",
    "  return  {'terms':terms}, labels"
   ]
  },
  {
   "cell_type": "markdown",
   "metadata": {
    "colab_type": "text",
    "id": "SXhTeeYMrp-l"
   },
   "source": [
    "To confirm our function is working as expected, let's construct a `TFRecordDataset` for the training data, and map the data to features and labels using the function above."
   ]
  },
  {
   "cell_type": "code",
   "execution_count": 3,
   "metadata": {
    "colab": {
     "base_uri": "https://localhost:8080/",
     "height": 34
    },
    "colab_type": "code",
    "id": "oF4YWXR0Omt0",
    "outputId": "fa4b82e8-7dc4-4597-d8c6-8c5676d9b7d4"
   },
   "outputs": [
    {
     "data": {
      "text/plain": [
       "<MapDataset shapes: ({terms: (?,)}, (1,)), types: ({terms: tf.string}, tf.float32)>"
      ]
     },
     "execution_count": 3,
     "metadata": {
      "tags": []
     },
     "output_type": "execute_result"
    }
   ],
   "source": [
    "# Create the Dataset object.\n",
    "ds = tf.data.TFRecordDataset(train_path)\n",
    "# Map features and labels with the parse function.\n",
    "ds = ds.map(_parse_function)\n",
    "\n",
    "ds"
   ]
  },
  {
   "cell_type": "markdown",
   "metadata": {
    "colab_type": "text",
    "id": "bUoMvK-9tVXP"
   },
   "source": [
    "Run the following cell to retrieve the first example from the training data set."
   ]
  },
  {
   "cell_type": "code",
   "execution_count": 4,
   "metadata": {
    "colab": {
     "base_uri": "https://localhost:8080/",
     "height": 510
    },
    "colab_type": "code",
    "id": "Z6QE2DWRUc4E",
    "outputId": "2d75370b-021b-46d7-b559-417b44a23bed"
   },
   "outputs": [
    {
     "data": {
      "text/plain": [
       "({'terms': array(['but', 'it', 'does', 'have', 'some', 'good', 'action', 'and', 'a',\n",
       "         'plot', 'that', 'is', 'somewhat', 'interesting', '.', 'nevsky',\n",
       "         'acts', 'like', 'a', 'body', 'builder', 'and', 'he', 'isn', \"'\",\n",
       "         't', 'all', 'that', 'attractive', ',', 'in', 'fact', ',', 'imo',\n",
       "         ',', 'he', 'is', 'ugly', '.', '(', 'his', 'acting', 'skills',\n",
       "         'lack', 'everything', '!', ')', 'sascha', 'is', 'played', 'very',\n",
       "         'well', 'by', 'joanna', 'pacula', ',', 'but', 'she', 'needed',\n",
       "         'more', 'lines', 'than', 'she', 'was', 'given', ',', 'her',\n",
       "         'character', 'needed', 'to', 'be', 'developed', '.', 'there',\n",
       "         'are', 'way', 'too', 'many', 'men', 'in', 'this', 'story', ',',\n",
       "         'there', 'is', 'zero', 'romance', ',', 'too', 'much', 'action',\n",
       "         ',', 'and', 'way', 'too', 'dumb', 'of', 'an', 'ending', '.', 'it',\n",
       "         'is', 'very', 'violent', '.', 'i', 'did', 'however', 'love', 'the',\n",
       "         'scenery', ',', 'this', 'movie', 'takes', 'you', 'all', 'over',\n",
       "         'the', 'world', ',', 'and', 'that', 'is', 'a', 'bonus', '.', 'i',\n",
       "         'also', 'liked', 'how', 'it', 'had', 'some', 'stuff', 'about',\n",
       "         'the', 'mafia', 'in', 'it', ',', 'not', 'too', 'much', 'or', 'too',\n",
       "         'little', ',', 'but', 'enough', 'that', 'it', 'got', 'my',\n",
       "         'attention', '.', 'the', 'actors', 'needed', 'to', 'be', 'more',\n",
       "         'handsome', '.', '.', '.', 'the', 'biggest', 'problem', 'i', 'had',\n",
       "         'was', 'that', 'nevsky', 'was', 'just', 'too', 'normal', ',',\n",
       "         'not', 'sexy', 'enough', '.', 'i', 'think', 'for', 'most', 'guys',\n",
       "         ',', 'sascha', 'will', 'be', 'hot', 'enough', ',', 'but', 'for',\n",
       "         'us', 'ladies', 'that', 'are', 'fans', 'of', 'action', ',',\n",
       "         'nevsky', 'just', 'doesn', \"'\", 't', 'cut', 'it', '.', 'overall',\n",
       "         ',', 'this', 'movie', 'was', 'fine', ',', 'i', 'didn', \"'\", 't',\n",
       "         'love', 'it', 'nor', 'did', 'i', 'hate', 'it', ',', 'just',\n",
       "         'found', 'it', 'to', 'be', 'another', 'normal', 'action', 'flick',\n",
       "         '.'], dtype=object)}, array([0.], dtype=float32))"
      ]
     },
     "execution_count": 4,
     "metadata": {
      "tags": []
     },
     "output_type": "execute_result"
    }
   ],
   "source": [
    "n = ds.make_one_shot_iterator().get_next()\n",
    "sess = tf.Session()\n",
    "sess.run(n)"
   ]
  },
  {
   "cell_type": "markdown",
   "metadata": {
    "colab_type": "text",
    "id": "jBU39UeFty9S"
   },
   "source": [
    "Now, let's build a formal input function that we can pass to the `train()` method of a TensorFlow Estimator object."
   ]
  },
  {
   "cell_type": "code",
   "execution_count": 0,
   "metadata": {
    "colab": {},
    "colab_type": "code",
    "id": "5_C5-ueNYIn_"
   },
   "outputs": [],
   "source": [
    "# Create an input_fn that parses the tf.Examples from the given files,\n",
    "# and split them into features and targets.\n",
    "def _input_fn(input_filenames, num_epochs=None, shuffle=True):\n",
    "  \n",
    "  # Same code as above; create a dataset and map features and labels.\n",
    "  ds = tf.data.TFRecordDataset(input_filenames)\n",
    "  ds = ds.map(_parse_function)\n",
    "\n",
    "  if shuffle:\n",
    "    ds = ds.shuffle(10000)\n",
    "\n",
    "  # Our feature data is variable-length, so we pad and batch\n",
    "  # each field of the dataset structure to whatever size is necessary.\n",
    "  ds = ds.padded_batch(25, ds.output_shapes)\n",
    "  \n",
    "  ds = ds.repeat(num_epochs)\n",
    "\n",
    "  \n",
    "  # Return the next batch of data.\n",
    "  features, labels = ds.make_one_shot_iterator().get_next()\n",
    "  return features, labels"
   ]
  },
  {
   "cell_type": "markdown",
   "metadata": {
    "colab_type": "text",
    "id": "Y170tVlrLS8c"
   },
   "source": [
    "## Task 1: Use a Linear Model with Sparse Inputs and an Explicit Vocabulary\n",
    "\n",
    "For our first model, we'll build a [`LinearClassifier`](https://www.tensorflow.org/api_docs/python/tf/estimator/LinearClassifier) model using 50 informative terms; always start simple!\n",
    "\n",
    "The following code constructs the feature column for our terms. The [`categorical_column_with_vocabulary_list`](https://www.tensorflow.org/api_docs/python/tf/feature_column/categorical_column_with_vocabulary_list) function creates a feature column with the string-to-feature-vector mapping."
   ]
  },
  {
   "cell_type": "code",
   "execution_count": 0,
   "metadata": {
    "colab": {},
    "colab_type": "code",
    "id": "B5gdxuWsvPcx"
   },
   "outputs": [],
   "source": [
    "# 50 informative terms that compose our model vocabulary \n",
    "informative_terms = (\"bad\", \"great\", \"best\", \"worst\", \"fun\", \"beautiful\",\n",
    "                     \"excellent\", \"poor\", \"boring\", \"awful\", \"terrible\",\n",
    "                     \"definitely\", \"perfect\", \"liked\", \"worse\", \"waste\",\n",
    "                     \"entertaining\", \"loved\", \"unfortunately\", \"amazing\",\n",
    "                     \"enjoyed\", \"favorite\", \"horrible\", \"brilliant\", \"highly\",\n",
    "                     \"simple\", \"annoying\", \"today\", \"hilarious\", \"enjoyable\",\n",
    "                     \"dull\", \"fantastic\", \"poorly\", \"fails\", \"disappointing\",\n",
    "                     \"disappointment\", \"not\", \"him\", \"her\", \"good\", \"time\",\n",
    "                     \"?\", \".\", \"!\", \"movie\", \"film\", \"action\", \"comedy\",\n",
    "                     \"drama\", \"family\")\n",
    "\n",
    "terms_feature_column = tf.feature_column.categorical_column_with_vocabulary_list(key=\"terms\", vocabulary_list=informative_terms)"
   ]
  },
  {
   "cell_type": "markdown",
   "metadata": {
    "colab_type": "text",
    "id": "eTiDwyorwd3P"
   },
   "source": [
    "Next, we'll construct the `LinearClassifier`, train it on the training set, and evaluate it on the evaluation set. After you read through the code, run it and see how you do."
   ]
  },
  {
   "cell_type": "code",
   "execution_count": 7,
   "metadata": {
    "colab": {
     "base_uri": "https://localhost:8080/",
     "height": 459
    },
    "colab_type": "code",
    "id": "HYKKpGLqLS8d",
    "outputId": "bc0bb007-c343-4059-ae2b-ce88582062b7"
   },
   "outputs": [
    {
     "name": "stdout",
     "output_type": "stream",
     "text": [
      "Training set metrics:\n",
      "loss 11.252818\n",
      "accuracy_baseline 0.5\n",
      "global_step 1000\n",
      "recall 0.8436\n",
      "auc 0.8722413\n",
      "prediction/mean 0.50545704\n",
      "precision 0.7615368\n",
      "label/mean 0.5\n",
      "average_loss 0.45011273\n",
      "auc_precision_recall 0.86326057\n",
      "accuracy 0.78972\n",
      "---\n",
      "Test set metrics:\n",
      "loss 11.287401\n",
      "accuracy_baseline 0.5\n",
      "global_step 1000\n",
      "recall 0.83544\n",
      "auc 0.87016195\n",
      "prediction/mean 0.50340354\n",
      "precision 0.75910443\n",
      "label/mean 0.5\n",
      "average_loss 0.45149606\n",
      "auc_precision_recall 0.86072457\n",
      "accuracy 0.78516\n",
      "---\n"
     ]
    }
   ],
   "source": [
    "my_optimizer = tf.train.AdagradOptimizer(learning_rate=0.1)\n",
    "my_optimizer = tf.contrib.estimator.clip_gradients_by_norm(my_optimizer, 5.0)\n",
    "\n",
    "feature_columns = [ terms_feature_column ]\n",
    "\n",
    "\n",
    "classifier = tf.estimator.LinearClassifier(\n",
    "  feature_columns=feature_columns,\n",
    "  optimizer=my_optimizer,\n",
    ")\n",
    "\n",
    "classifier.train(\n",
    "  input_fn=lambda: _input_fn([train_path]),\n",
    "  steps=1000)\n",
    "\n",
    "evaluation_metrics = classifier.evaluate(\n",
    "  input_fn=lambda: _input_fn([train_path]),\n",
    "  steps=1000)\n",
    "print(\"Training set metrics:\")\n",
    "for m in evaluation_metrics:\n",
    "  print(m, evaluation_metrics[m])\n",
    "print(\"---\")\n",
    "\n",
    "evaluation_metrics = classifier.evaluate(\n",
    "  input_fn=lambda: _input_fn([test_path]),\n",
    "  steps=1000)\n",
    "\n",
    "print(\"Test set metrics:\")\n",
    "for m in evaluation_metrics:\n",
    "  print(m, evaluation_metrics[m])\n",
    "print(\"---\")"
   ]
  },
  {
   "cell_type": "markdown",
   "metadata": {
    "colab_type": "text",
    "id": "J0ubn9gULS8g"
   },
   "source": [
    "## Task 2: Use a Deep Neural Network (DNN) Model\n",
    "\n",
    "The above model is a linear model.  It works quite well.  But can we do better with a DNN model?\n",
    "\n",
    "Let's swap in a [`DNNClassifier`](https://www.tensorflow.org/api_docs/python/tf/estimator/DNNClassifier) for the `LinearClassifier`. Run the following cell, and see how you do."
   ]
  },
  {
   "cell_type": "code",
   "execution_count": 8,
   "metadata": {
    "colab": {
     "base_uri": "https://localhost:8080/",
     "height": 459
    },
    "colab_type": "code",
    "id": "jcgOPfEALS8h",
    "outputId": "50a920cd-f575-4e06-d338-da4fade59938"
   },
   "outputs": [
    {
     "name": "stdout",
     "output_type": "stream",
     "text": [
      "Training set metrics:\n",
      "loss 15.05582\n",
      "accuracy_baseline 0.52\n",
      "global_step 1000\n",
      "recall 0.84615386\n",
      "auc 0.75641024\n",
      "prediction/mean 0.59917885\n",
      "precision 0.64705884\n",
      "label/mean 0.52\n",
      "average_loss 0.6022328\n",
      "auc_precision_recall 0.7846668\n",
      "accuracy 0.68\n",
      "---\n",
      "Test set metrics:\n",
      "loss 11.874478\n",
      "accuracy_baseline 0.52\n",
      "global_step 1000\n",
      "recall 0.9166667\n",
      "auc 0.83653843\n",
      "prediction/mean 0.5144283\n",
      "precision 0.6875\n",
      "label/mean 0.48\n",
      "average_loss 0.47497913\n",
      "auc_precision_recall 0.84580123\n",
      "accuracy 0.76\n",
      "---\n"
     ]
    }
   ],
   "source": [
    "##################### Here's what we changed ##################################\n",
    "classifier = tf.estimator.DNNClassifier(                                      #\n",
    "  feature_columns=[tf.feature_column.indicator_column(terms_feature_column)], #\n",
    "  hidden_units=[20,20],                                                       #\n",
    "  optimizer=my_optimizer,                                                     #\n",
    ")                                                                             #\n",
    "###############################################################################\n",
    "\n",
    "try:\n",
    "  classifier.train(\n",
    "    input_fn=lambda: _input_fn([train_path]),\n",
    "    steps=1000)\n",
    "\n",
    "  evaluation_metrics = classifier.evaluate(\n",
    "    input_fn=lambda: _input_fn([train_path]),\n",
    "    steps=1)\n",
    "  print(\"Training set metrics:\")\n",
    "  for m in evaluation_metrics:\n",
    "    print(m, evaluation_metrics[m])\n",
    "  print(\"---\")\n",
    "\n",
    "  evaluation_metrics = classifier.evaluate(\n",
    "    input_fn=lambda: _input_fn([test_path]),\n",
    "    steps=1)\n",
    "\n",
    "  print(\"Test set metrics:\")\n",
    "  for m in evaluation_metrics:\n",
    "    print(m, evaluation_metrics[m])\n",
    "  print(\"---\")\n",
    "except ValueError as err:\n",
    "  print(err)"
   ]
  },
  {
   "cell_type": "markdown",
   "metadata": {
    "colab_type": "text",
    "id": "cZz68luxLS8j"
   },
   "source": [
    "## Task 3: Use an Embedding with a DNN Model\n",
    "\n",
    "In this task, we'll implement our DNN model using an embedding column. An embedding column takes sparse data as input and returns a lower-dimensional dense vector as output."
   ]
  },
  {
   "cell_type": "markdown",
   "metadata": {
    "colab_type": "text",
    "id": "AliRzhvJLS8k"
   },
   "source": [
    "**NOTE:** *An embedding_column is usually the computationally most efficient option to use for training a model on sparse data. In an [optional section](#scrollTo=XDMlGgRfKSVz) at the end of this exercise, we'll discuss in more depth the implementational differences between using an `embedding_column` and an `indicator_column`, and the tradeoffs of selecting one over the other.*"
   ]
  },
  {
   "cell_type": "markdown",
   "metadata": {
    "colab_type": "text",
    "id": "F-as3PtALS8l"
   },
   "source": [
    "In the following code, do the following:\n",
    "\n",
    "* Define the feature columns for the model using an `embedding_column` that projects the data into 2 dimensions (see the [TF docs](https://www.tensorflow.org/api_docs/python/tf/feature_column/embedding_column) for more details on the function signature for `embedding_column`).\n",
    "* Define a `DNNClassifier` with the following specifications:\n",
    "  * Two hidden layers of 20 units each\n",
    "  * Adagrad optimization with a learning rate of 0.1\n",
    "  * A `gradient_clip_norm` of 5.0"
   ]
  },
  {
   "cell_type": "markdown",
   "metadata": {
    "colab_type": "text",
    "id": "UlPZ-Q9bLS8m"
   },
   "source": [
    "**NOTE:** *In practice, we might project to dimensions higher than 2, like 50 or 100.  But for now, 2 dimensions is easy to visualize.*"
   ]
  },
  {
   "cell_type": "markdown",
   "metadata": {
    "colab_type": "text",
    "id": "mNCLhxsXyOIS"
   },
   "source": [
    "### Hint"
   ]
  },
  {
   "cell_type": "code",
   "execution_count": 0,
   "metadata": {
    "colab": {},
    "colab_type": "code",
    "id": "L67xYD7hLS8m"
   },
   "outputs": [],
   "source": [
    "# Here's a example code snippet you might use to define the feature columns:\n",
    "\n",
    "terms_embedding_column = tf.feature_column.embedding_column(terms_feature_column, dimension=2)\n",
    "feature_columns = [ terms_embedding_column ]"
   ]
  },
  {
   "cell_type": "markdown",
   "metadata": {
    "colab_type": "text",
    "id": "iv1UBsJxyV37"
   },
   "source": [
    "### Complete the Code Below"
   ]
  },
  {
   "cell_type": "code",
   "execution_count": 12,
   "metadata": {
    "colab": {
     "base_uri": "https://localhost:8080/",
     "height": 459
    },
    "colab_type": "code",
    "id": "5PG_yhNGLS8u",
    "outputId": "72107081-fa1e-4c43-a183-3b82f55eaf44"
   },
   "outputs": [
    {
     "name": "stdout",
     "output_type": "stream",
     "text": [
      "Training set metrics:\n",
      "loss 11.301222\n",
      "accuracy_baseline 0.5\n",
      "global_step 1000\n",
      "recall 0.82232\n",
      "auc 0.86877483\n",
      "prediction/mean 0.50144124\n",
      "precision 0.76708955\n",
      "label/mean 0.5\n",
      "average_loss 0.45204887\n",
      "auc_precision_recall 0.8575439\n",
      "accuracy 0.78632\n",
      "---\n",
      "Test set metrics:\n",
      "loss 11.296112\n",
      "accuracy_baseline 0.5\n",
      "global_step 1000\n",
      "recall 0.81736\n",
      "auc 0.86888695\n",
      "prediction/mean 0.501606\n",
      "precision 0.7688314\n",
      "label/mean 0.5\n",
      "average_loss 0.45184448\n",
      "auc_precision_recall 0.85677016\n",
      "accuracy 0.7858\n",
      "---\n"
     ]
    }
   ],
   "source": [
    "########################## YOUR CODE HERE ######################################\n",
    "#terms_embedding_column = # Define the embedding column\n",
    "#feature_columns = # Define the feature columns\n",
    "\n",
    "#classifier = # Define the DNNClassifier\n",
    "terms_embedding_column = tf.feature_column.embedding_column(terms_feature_column, dimension=2)\n",
    "feature_columns = [ terms_embedding_column ]\n",
    "my_optimizer = tf.train.AdagradOptimizer(learning_rate=0.1)\n",
    "my_optimizer = tf.contrib.estimator.clip_gradients_by_norm(my_optimizer, 5.0)\n",
    "\n",
    "classifier = tf.estimator.DNNClassifier(\n",
    "  feature_columns=feature_columns,\n",
    "  hidden_units=[20,20],\n",
    "  optimizer=my_optimizer\n",
    ")\n",
    "################################################################################\n",
    "\n",
    "classifier.train(\n",
    "  input_fn=lambda: _input_fn([train_path]),\n",
    "  steps=1000)\n",
    "\n",
    "evaluation_metrics = classifier.evaluate(\n",
    "  input_fn=lambda: _input_fn([train_path]),\n",
    "  steps=1000)\n",
    "print(\"Training set metrics:\")\n",
    "for m in evaluation_metrics:\n",
    "  print(m, evaluation_metrics[m])\n",
    "print(\"---\")\n",
    "\n",
    "evaluation_metrics = classifier.evaluate(\n",
    "  input_fn=lambda: _input_fn([test_path]),\n",
    "  steps=1000)\n",
    "\n",
    "print(\"Test set metrics:\")\n",
    "for m in evaluation_metrics:\n",
    "  print(m, evaluation_metrics[m])\n",
    "print(\"---\")"
   ]
  },
  {
   "cell_type": "markdown",
   "metadata": {
    "colab_type": "text",
    "id": "eQS5KQzBybTY"
   },
   "source": [
    "### Solution\n",
    "\n",
    "Click below for a solution."
   ]
  },
  {
   "cell_type": "markdown",
   "metadata": {
    "colab_type": "text",
    "id": "aiHnnVtzLS8w"
   },
   "source": [
    "## Task 4: Convince yourself there's actually an embedding in there\n",
    "\n",
    "The above model used an `embedding_column`, and it seemed to work, but this doesn't tell us much about what's going on internally. How can we check that the model is actually using an embedding inside?\n",
    "\n",
    "To start, let's look at the tensors in the model:"
   ]
  },
  {
   "cell_type": "code",
   "execution_count": 14,
   "metadata": {
    "colab": {
     "base_uri": "https://localhost:8080/",
     "height": 272
    },
    "colab_type": "code",
    "id": "h1jNgLdQLS8w",
    "outputId": "15caba0a-25b5-4334-bf46-d1dbe6fa3071"
   },
   "outputs": [
    {
     "data": {
      "text/plain": [
       "['dnn/hiddenlayer_0/bias',\n",
       " 'dnn/hiddenlayer_0/bias/t_0/Adagrad',\n",
       " 'dnn/hiddenlayer_0/kernel',\n",
       " 'dnn/hiddenlayer_0/kernel/t_0/Adagrad',\n",
       " 'dnn/hiddenlayer_1/bias',\n",
       " 'dnn/hiddenlayer_1/bias/t_0/Adagrad',\n",
       " 'dnn/hiddenlayer_1/kernel',\n",
       " 'dnn/hiddenlayer_1/kernel/t_0/Adagrad',\n",
       " 'dnn/input_from_feature_columns/input_layer/terms_embedding/embedding_weights',\n",
       " 'dnn/input_from_feature_columns/input_layer/terms_embedding/embedding_weights/t_0/Adagrad',\n",
       " 'dnn/logits/bias',\n",
       " 'dnn/logits/bias/t_0/Adagrad',\n",
       " 'dnn/logits/kernel',\n",
       " 'dnn/logits/kernel/t_0/Adagrad',\n",
       " 'global_step']"
      ]
     },
     "execution_count": 14,
     "metadata": {
      "tags": []
     },
     "output_type": "execute_result"
    }
   ],
   "source": [
    "classifier.get_variable_names()"
   ]
  },
  {
   "cell_type": "markdown",
   "metadata": {
    "colab_type": "text",
    "id": "Sl4-VctMLS8z"
   },
   "source": [
    "Okay, we can see that there is an embedding layer in there: `'dnn/input_from_feature_columns/input_layer/terms_embedding/...'`. (What's interesting here, by the way, is that this layer is trainable along with the rest of the model just as any hidden layer is.)\n",
    "\n",
    "Is the embedding layer the correct shape? Run the following code to find out."
   ]
  },
  {
   "cell_type": "markdown",
   "metadata": {
    "colab_type": "text",
    "id": "JNFxyQUiLS80"
   },
   "source": [
    "**NOTE:** *Remember, in our case, the embedding is a matrix that allows us to project a 50-dimensional vector down to 2 dimensions.*"
   ]
  },
  {
   "cell_type": "code",
   "execution_count": 15,
   "metadata": {
    "colab": {
     "base_uri": "https://localhost:8080/",
     "height": 34
    },
    "colab_type": "code",
    "id": "1xMbpcEjLS80",
    "outputId": "222256ef-2b0a-4cbf-c06c-8452aeda8b47"
   },
   "outputs": [
    {
     "data": {
      "text/plain": [
       "(50, 2)"
      ]
     },
     "execution_count": 15,
     "metadata": {
      "tags": []
     },
     "output_type": "execute_result"
    }
   ],
   "source": [
    "classifier.get_variable_value('dnn/input_from_feature_columns/input_layer/terms_embedding/embedding_weights').shape"
   ]
  },
  {
   "cell_type": "markdown",
   "metadata": {
    "colab_type": "text",
    "id": "MnLCIogjLS82"
   },
   "source": [
    "Spend some time manually checking the various layers and shapes to make sure everything is connected the way you would expect it would be."
   ]
  },
  {
   "cell_type": "markdown",
   "metadata": {
    "colab_type": "text",
    "id": "rkKAaRWDLS83"
   },
   "source": [
    "## Task 5: Examine the Embedding\n",
    "\n",
    "Let's now take a look at the actual embedding space, and see where the terms end up in it. Do the following:\n",
    "1. Run the following code to see the embedding we trained in **Task 3**. Do things end up where you'd expect?\n",
    "\n",
    "2. Re-train the model by rerunning the code in **Task 3**, and then run the embedding visualization below again. What stays the same? What changes?\n",
    "\n",
    "3. Finally, re-train the model again using only 10 steps (which will yield a terrible model). Run the embedding visualization below again. What do you see now, and why?"
   ]
  },
  {
   "cell_type": "code",
   "execution_count": 16,
   "metadata": {
    "colab": {
     "base_uri": "https://localhost:8080/",
     "height": 347
    },
    "colab_type": "code",
    "id": "s4NNu7KqLS84",
    "outputId": "9b5e41db-b25f-46bf-ea6e-0db27bf2a9f1"
   },
   "outputs": [
    {
     "data": {
      "image/png": "[encoded data removed]",
      "text/plain": [
       "<matplotlib.figure.Figure at 0x7ff96bb1fe50>"
      ]
     },
     "metadata": {
      "tags": []
     },
     "output_type": "display_data"
    }
   ],
   "source": [
    "import numpy as np\n",
    "import matplotlib.pyplot as plt\n",
    "\n",
    "embedding_matrix = classifier.get_variable_value('dnn/input_from_feature_columns/input_layer/terms_embedding/embedding_weights')\n",
    "\n",
    "for term_index in range(len(informative_terms)):\n",
    "  # Create a one-hot encoding for our term. It has 0s everywhere, except for\n",
    "  # a single 1 in the coordinate that corresponds to that term.\n",
    "  term_vector = np.zeros(len(informative_terms))\n",
    "  term_vector[term_index] = 1\n",
    "  # We'll now project that one-hot vector into the embedding space.\n",
    "  embedding_xy = np.matmul(term_vector, embedding_matrix)\n",
    "  plt.text(embedding_xy[0],\n",
    "           embedding_xy[1],\n",
    "           informative_terms[term_index])\n",
    "\n",
    "# Do a little setup to make sure the plot displays nicely.\n",
    "plt.rcParams[\"figure.figsize\"] = (15, 15)\n",
    "plt.xlim(1.2 * embedding_matrix.min(), 1.2 * embedding_matrix.max())\n",
    "plt.ylim(1.2 * embedding_matrix.min(), 1.2 * embedding_matrix.max())\n",
    "plt.show() "
   ]
  },
  {
   "cell_type": "markdown",
   "metadata": {
    "colab_type": "text",
    "id": "pUb3L7pqLS86"
   },
   "source": [
    "## Task 6:  Try to improve the model's performance\n",
    "\n",
    "See if you can refine the model to improve performance. A couple things you may want to try:\n",
    "\n",
    "* **Changing hyperparameters**, or **using a different optimizer** like Adam (you may only gain one or two accuracy percentage points following these strategies).\n",
    "* **Adding additional terms to `informative_terms`.** There's a full vocabulary file with all 30,716 terms for this data set that you can use at: https://dl.google.com/mlcc/mledu-datasets/sparse-data-embedding/terms.txt You can pick out additional terms from this vocabulary file, or use the whole thing via the `categorical_column_with_vocabulary_file` feature column."
   ]
  },
  {
   "cell_type": "code",
   "execution_count": 17,
   "metadata": {
    "colab": {
     "base_uri": "https://localhost:8080/",
     "height": 68
    },
    "colab_type": "code",
    "id": "6-b3BqXvLS86",
    "outputId": "42a26aa1-17e0-4b1a-c2d6-280f8957adad"
   },
   "outputs": [
    {
     "name": "stdout",
     "output_type": "stream",
     "text": [
      "Downloading data from https://dl.google.com/mlcc/mledu-datasets/sparse-data-embedding/terms.txt\n",
      "253952/253538 [==============================] - 0s 0us/step\n",
      "262144/253538 [===============================] - 0s 0us/step\n"
     ]
    }
   ],
   "source": [
    "# Download the vocabulary file.\n",
    "terms_url = 'https://dl.google.com/mlcc/mledu-datasets/sparse-data-embedding/terms.txt'\n",
    "terms_path = tf.keras.utils.get_file(terms_url.split('/')[-1], terms_url)"
   ]
  },
  {
   "cell_type": "code",
   "execution_count": 18,
   "metadata": {
    "colab": {
     "base_uri": "https://localhost:8080/",
     "height": 459
    },
    "colab_type": "code",
    "id": "0jbJlwW5LS8-",
    "outputId": "ed52009d-2c70-438a-a2e2-a20d88847d59"
   },
   "outputs": [
    {
     "name": "stdout",
     "output_type": "stream",
     "text": [
      "Training set metrics:\n",
      "loss 10.031587\n",
      "accuracy_baseline 0.5\n",
      "global_step 1000\n",
      "recall 0.85688\n",
      "auc 0.90184075\n",
      "prediction/mean 0.5313608\n",
      "precision 0.801062\n",
      "label/mean 0.5\n",
      "average_loss 0.40126348\n",
      "auc_precision_recall 0.9020422\n",
      "accuracy 0.82204\n",
      "---\n",
      "Test set metrics:\n",
      "loss 10.556519\n",
      "accuracy_baseline 0.5\n",
      "global_step 1000\n",
      "recall 0.85\n",
      "auc 0.89111745\n",
      "prediction/mean 0.5334389\n",
      "precision 0.7891414\n",
      "label/mean 0.5\n",
      "average_loss 0.42226073\n",
      "auc_precision_recall 0.88842356\n",
      "accuracy 0.81144\n",
      "---\n"
     ]
    }
   ],
   "source": [
    "# Create a feature column from \"terms\", using a full vocabulary file.\n",
    "informative_terms = None\n",
    "with io.open(terms_path, 'r', encoding='utf8') as f:\n",
    "  # Convert it to a set first to remove duplicates.\n",
    "  informative_terms = list(set(f.read().split()))\n",
    "  \n",
    "terms_feature_column = tf.feature_column.categorical_column_with_vocabulary_list(key=\"terms\", \n",
    "                                                                                 vocabulary_list=informative_terms)\n",
    "\n",
    "terms_embedding_column = tf.feature_column.embedding_column(terms_feature_column, dimension=2)\n",
    "feature_columns = [ terms_embedding_column ]\n",
    "\n",
    "my_optimizer = tf.train.AdagradOptimizer(learning_rate=0.1)\n",
    "my_optimizer = tf.contrib.estimator.clip_gradients_by_norm(my_optimizer, 5.0)\n",
    "\n",
    "classifier = tf.estimator.DNNClassifier(\n",
    "  feature_columns=feature_columns,\n",
    "  hidden_units=[10,10],\n",
    "  optimizer=my_optimizer\n",
    ")\n",
    "\n",
    "classifier.train(\n",
    "  input_fn=lambda: _input_fn([train_path]),\n",
    "  steps=1000)\n",
    "\n",
    "evaluation_metrics = classifier.evaluate(\n",
    "  input_fn=lambda: _input_fn([train_path]),\n",
    "  steps=1000)\n",
    "print(\"Training set metrics:\")\n",
    "for m in evaluation_metrics:\n",
    "  print(m, evaluation_metrics[m])\n",
    "print(\"---\")\n",
    "\n",
    "evaluation_metrics = classifier.evaluate(\n",
    "  input_fn=lambda: _input_fn([test_path]),\n",
    "  steps=1000)\n",
    "\n",
    "print(\"Test set metrics:\")\n",
    "for m in evaluation_metrics:\n",
    "  print(m, evaluation_metrics[m])\n",
    "print(\"---\")"
   ]
  },
  {
   "cell_type": "markdown",
   "metadata": {
    "colab_type": "text",
    "id": "ew3kwGM-LS9B"
   },
   "source": [
    "## A Final Word\n",
    "\n",
    "We may have gotten a DNN solution with an embedding that was better than our original linear model, but the linear model was also pretty good and was quite a bit faster to train. Linear models train more quickly because they do not have nearly as many parameters to update or layers to backprop through.\n",
    "\n",
    "In some applications, the speed of linear models may be a game changer, or linear models may be perfectly sufficient from a quality standpoint. In other areas, the additional model complexity and capacity provided by DNNs might be more important. When defining your model architecture, remember to explore your problem sufficiently so that you know which space you're in."
   ]
  },
  {
   "cell_type": "markdown",
   "metadata": {
    "colab_type": "text",
    "id": "9MquXy9zLS9B"
   },
   "source": [
    "### *Optional Discussion:* Trade-offs between `embedding_column` and `indicator_column`\n",
    "\n",
    "Conceptually when training a `LinearClassifier` or a `DNNClassifier`, there is an adapter needed to use a sparse column. TF provides two options: `embedding_column` or `indicator_column`.\n",
    "\n",
    "When training a LinearClassifier (as in **Task 1**), an `embedding_column` in used under the hood. As seen in **Task 2**, when training a `DNNClassifier`, you must explicitly choose either `embedding_column` or `indicator_column`. This section discusses the distinction between the two, and the trade-offs of using one over the other, by looking at a simple example."
   ]
  },
  {
   "cell_type": "markdown",
   "metadata": {
    "colab_type": "text",
    "id": "M_3XuZ_LLS9C"
   },
   "source": [
    "Suppose we have sparse data containing the values `\"great\"`, `\"beautiful\"`, `\"excellent\"`. Since the vocabulary size we're using here is $V = 50$, each unit (neuron) in the first layer will have 50 weights. We denote the number of terms in a sparse input using $s$. So for this example sparse data, $s = 3$. For an input layer with $V$ possible values, a hidden layer with $d$ units needs to do a vector-matrix multiply: $(1 \\times V) * (V \\times d)$.  This has $O(V * d)$ computational cost. Note that this cost is proportional to the number of weights in that hidden layer and independent of $s$.\n",
    "\n",
    "If the inputs are one-hot encoded (a Boolean vector of length $V$ with a 1 for the terms present and a 0 for the rest) using an [`indicator_column`](https://www.tensorflow.org/api_docs/python/tf/feature_column/indicator_column), this means multiplying and adding a lot of zeros."
   ]
  },
  {
   "cell_type": "markdown",
   "metadata": {
    "colab_type": "text",
    "id": "I7mR4Wa2LS9C"
   },
   "source": [
    "When we achieve the exact same results by using an [`embedding_column`](https://www.tensorflow.org/api_docs/python/tf/feature_column/embedding_column) of size $d$, we look up and add up just the embeddings corresponding to the three features present in our example input of \"`great`\", \"`beautiful`\", \"`excellent`\": $(1 \\times d) + (1 \\times d) + (1 \\times d)$. Since the weights for the features that are absent are multiplied by zero in the vector-matrix multiply, they do not contribute to the result. Weights for the features that are present are multiplied by 1 in the vector-matrix multiply. Thus, adding the weights obtained via the embedding lookup will lead to the same result as in the vector-matrix-multiply.\n",
    "\n",
    "When using an embedding, computing the embedding lookup is an $O(s * d)$ computation, which is computationally much more efficient than the $O(V * d)$ cost for the `indicator_column` in sparse data for which $s$ is much smaller than $V$. (Remember, these embeddings are being learned. In any given training iteration it is the current weights that are being looked up.)"
   ]
  },
  {
   "cell_type": "markdown",
   "metadata": {
    "colab_type": "text",
    "id": "etZ9qf0kLS9D"
   },
   "source": [
    "As we saw in **Task 3**, by using an `embedding_column` in training the `DNNClassifier`, our model learns a low-dimensional representation for the features, where the dot product defines a similarity metric tailored to the desired task. In this example, terms that are used similarly in the context of movie reviews (e.g., `\"great\"` and `\"excellent\"`) will be closer to each other the embedding space (i.e., have a large dot product), and terms that are dissimilar (e.g., `\"great\"` and `\"bad\"`) will be farther away from each other in the embedding space (i.e., have a small dot product)."
   ]
  }
 ],
 "metadata": {
  "colab": {
   "collapsed_sections": [
    "JndnmDMp66FL",
    "mNCLhxsXyOIS",
    "eQS5KQzBybTY"
   ],
   "name": "intro_to_sparse_data_and_embeddings.ipynb",
   "provenance": [],
   "version": "0.3.2"
  },
  "kernelspec": {
   "display_name": "Python 3",
   "language": "python",
   "name": "python3"
  },
  "language_info": {
   "codemirror_mode": {
    "name": "ipython",
    "version": 3
   },
   "file_extension": ".py",
   "mimetype": "text/x-python",
   "name": "python",
   "nbconvert_exporter": "python",
   "pygments_lexer": "ipython3",
   "version": "3.6.6"
  }
 },
 "nbformat": 4,
 "nbformat_minor": 1
}
